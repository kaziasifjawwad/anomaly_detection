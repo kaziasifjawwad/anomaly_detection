{
 "nbformat": 4,
 "nbformat_minor": 0,
 "metadata": {
  "colab": {
   "provenance": []
  },
  "kernelspec": {
   "name": "python3",
   "display_name": "Python 3"
  },
  "language_info": {
   "name": "python"
  },
  "widgets": {
   "application/vnd.jupyter.widget-state+json": {
    "8a21dd7d981a4d1c8b8bb0a03ce72cac": {
     "model_module": "@jupyter-widgets/controls",
     "model_name": "FloatTextModel",
     "model_module_version": "1.5.0",
     "state": {
      "_dom_classes": [],
      "_model_module": "@jupyter-widgets/controls",
      "_model_module_version": "1.5.0",
      "_model_name": "FloatTextModel",
      "_view_count": null,
      "_view_module": "@jupyter-widgets/controls",
      "_view_module_version": "1.5.0",
      "_view_name": "FloatTextView",
      "continuous_update": false,
      "description": "Depositor Running Balance:",
      "description_tooltip": null,
      "disabled": false,
      "layout": "IPY_MODEL_4ddaece86afd409f98334facb5a8d1fb",
      "step": null,
      "style": "IPY_MODEL_eeda931f5a2c4c1b8885917a83972097",
      "value": 0
     }
    },
    "4ddaece86afd409f98334facb5a8d1fb": {
     "model_module": "@jupyter-widgets/base",
     "model_name": "LayoutModel",
     "model_module_version": "1.2.0",
     "state": {
      "_model_module": "@jupyter-widgets/base",
      "_model_module_version": "1.2.0",
      "_model_name": "LayoutModel",
      "_view_count": null,
      "_view_module": "@jupyter-widgets/base",
      "_view_module_version": "1.2.0",
      "_view_name": "LayoutView",
      "align_content": null,
      "align_items": null,
      "align_self": null,
      "border": null,
      "bottom": null,
      "display": null,
      "flex": null,
      "flex_flow": null,
      "grid_area": null,
      "grid_auto_columns": null,
      "grid_auto_flow": null,
      "grid_auto_rows": null,
      "grid_column": null,
      "grid_gap": null,
      "grid_row": null,
      "grid_template_areas": null,
      "grid_template_columns": null,
      "grid_template_rows": null,
      "height": null,
      "justify_content": null,
      "justify_items": null,
      "left": null,
      "margin": null,
      "max_height": null,
      "max_width": null,
      "min_height": null,
      "min_width": null,
      "object_fit": null,
      "object_position": null,
      "order": null,
      "overflow": null,
      "overflow_x": null,
      "overflow_y": null,
      "padding": null,
      "right": null,
      "top": null,
      "visibility": null,
      "width": "300px"
     }
    },
    "eeda931f5a2c4c1b8885917a83972097": {
     "model_module": "@jupyter-widgets/controls",
     "model_name": "DescriptionStyleModel",
     "model_module_version": "1.5.0",
     "state": {
      "_model_module": "@jupyter-widgets/controls",
      "_model_module_version": "1.5.0",
      "_model_name": "DescriptionStyleModel",
      "_view_count": null,
      "_view_module": "@jupyter-widgets/base",
      "_view_module_version": "1.2.0",
      "_view_name": "StyleView",
      "description_width": ""
     }
    },
    "ca886c4cab4345dd94e4c7d17523bd74": {
     "model_module": "@jupyter-widgets/controls",
     "model_name": "FloatTextModel",
     "model_module_version": "1.5.0",
     "state": {
      "_dom_classes": [],
      "_model_module": "@jupyter-widgets/controls",
      "_model_module_version": "1.5.0",
      "_model_name": "FloatTextModel",
      "_view_count": null,
      "_view_module": "@jupyter-widgets/controls",
      "_view_module_version": "1.5.0",
      "_view_name": "FloatTextView",
      "continuous_update": false,
      "description": "Sender Balance Before Transaction:",
      "description_tooltip": null,
      "disabled": false,
      "layout": "IPY_MODEL_4ddaece86afd409f98334facb5a8d1fb",
      "step": null,
      "style": "IPY_MODEL_e8f276695f9e43ea81ee2a6f460e6475",
      "value": 0
     }
    },
    "e8f276695f9e43ea81ee2a6f460e6475": {
     "model_module": "@jupyter-widgets/controls",
     "model_name": "DescriptionStyleModel",
     "model_module_version": "1.5.0",
     "state": {
      "_model_module": "@jupyter-widgets/controls",
      "_model_module_version": "1.5.0",
      "_model_name": "DescriptionStyleModel",
      "_view_count": null,
      "_view_module": "@jupyter-widgets/base",
      "_view_module_version": "1.2.0",
      "_view_name": "StyleView",
      "description_width": ""
     }
    },
    "b23b077b0c1946b097e2d7c29734e04c": {
     "model_module": "@jupyter-widgets/controls",
     "model_name": "FloatTextModel",
     "model_module_version": "1.5.0",
     "state": {
      "_dom_classes": [],
      "_model_module": "@jupyter-widgets/controls",
      "_model_module_version": "1.5.0",
      "_model_name": "FloatTextModel",
      "_view_count": null,
      "_view_module": "@jupyter-widgets/controls",
      "_view_module_version": "1.5.0",
      "_view_name": "FloatTextView",
      "continuous_update": false,
      "description": "Amount:",
      "description_tooltip": null,
      "disabled": false,
      "layout": "IPY_MODEL_4ddaece86afd409f98334facb5a8d1fb",
      "step": null,
      "style": "IPY_MODEL_7904af752971431c986049c3f11c24b7",
      "value": 0
     }
    },
    "7904af752971431c986049c3f11c24b7": {
     "model_module": "@jupyter-widgets/controls",
     "model_name": "DescriptionStyleModel",
     "model_module_version": "1.5.0",
     "state": {
      "_model_module": "@jupyter-widgets/controls",
      "_model_module_version": "1.5.0",
      "_model_name": "DescriptionStyleModel",
      "_view_count": null,
      "_view_module": "@jupyter-widgets/base",
      "_view_module_version": "1.2.0",
      "_view_name": "StyleView",
      "description_width": ""
     }
    },
    "95cd7446d33b4abf8bc0a0156ed64934": {
     "model_module": "@jupyter-widgets/controls",
     "model_name": "FloatTextModel",
     "model_module_version": "1.5.0",
     "state": {
      "_dom_classes": [],
      "_model_module": "@jupyter-widgets/controls",
      "_model_module_version": "1.5.0",
      "_model_name": "FloatTextModel",
      "_view_count": null,
      "_view_module": "@jupyter-widgets/controls",
      "_view_module_version": "1.5.0",
      "_view_name": "FloatTextView",
      "continuous_update": false,
      "description": "Sender Debit Amount:",
      "description_tooltip": null,
      "disabled": false,
      "layout": "IPY_MODEL_4ddaece86afd409f98334facb5a8d1fb",
      "step": null,
      "style": "IPY_MODEL_1a9e76c3d82c4d5281d9befc66e7b45a",
      "value": 0
     }
    },
    "1a9e76c3d82c4d5281d9befc66e7b45a": {
     "model_module": "@jupyter-widgets/controls",
     "model_name": "DescriptionStyleModel",
     "model_module_version": "1.5.0",
     "state": {
      "_model_module": "@jupyter-widgets/controls",
      "_model_module_version": "1.5.0",
      "_model_name": "DescriptionStyleModel",
      "_view_count": null,
      "_view_module": "@jupyter-widgets/base",
      "_view_module_version": "1.2.0",
      "_view_name": "StyleView",
      "description_width": ""
     }
    },
    "b8b1f6d09c4c4f3bb922037fb06971e2": {
     "model_module": "@jupyter-widgets/controls",
     "model_name": "FloatTextModel",
     "model_module_version": "1.5.0",
     "state": {
      "_dom_classes": [],
      "_model_module": "@jupyter-widgets/controls",
      "_model_module_version": "1.5.0",
      "_model_name": "FloatTextModel",
      "_view_count": null,
      "_view_module": "@jupyter-widgets/controls",
      "_view_module_version": "1.5.0",
      "_view_name": "FloatTextView",
      "continuous_update": false,
      "description": "Withdrawer Running Balance:",
      "description_tooltip": null,
      "disabled": false,
      "layout": "IPY_MODEL_4ddaece86afd409f98334facb5a8d1fb",
      "step": null,
      "style": "IPY_MODEL_d1dd4994e75647578b9edc3c3896187f",
      "value": 0
     }
    },
    "d1dd4994e75647578b9edc3c3896187f": {
     "model_module": "@jupyter-widgets/controls",
     "model_name": "DescriptionStyleModel",
     "model_module_version": "1.5.0",
     "state": {
      "_model_module": "@jupyter-widgets/controls",
      "_model_module_version": "1.5.0",
      "_model_name": "DescriptionStyleModel",
      "_view_count": null,
      "_view_module": "@jupyter-widgets/base",
      "_view_module_version": "1.2.0",
      "_view_name": "StyleView",
      "description_width": ""
     }
    },
    "d30d75b6d94b4ee8ac9c802b8dc14f62": {
     "model_module": "@jupyter-widgets/controls",
     "model_name": "ButtonModel",
     "model_module_version": "1.5.0",
     "state": {
      "_dom_classes": [],
      "_model_module": "@jupyter-widgets/controls",
      "_model_module_version": "1.5.0",
      "_model_name": "ButtonModel",
      "_view_count": null,
      "_view_module": "@jupyter-widgets/controls",
      "_view_module_version": "1.5.0",
      "_view_name": "ButtonView",
      "button_style": "success",
      "description": "Predict",
      "disabled": false,
      "icon": "",
      "layout": "IPY_MODEL_12d9940397ca4b9a98d100321fa5f66a",
      "style": "IPY_MODEL_45e9505b2c304a59b5c6118be553759f",
      "tooltip": ""
     }
    },
    "12d9940397ca4b9a98d100321fa5f66a": {
     "model_module": "@jupyter-widgets/base",
     "model_name": "LayoutModel",
     "model_module_version": "1.2.0",
     "state": {
      "_model_module": "@jupyter-widgets/base",
      "_model_module_version": "1.2.0",
      "_model_name": "LayoutModel",
      "_view_count": null,
      "_view_module": "@jupyter-widgets/base",
      "_view_module_version": "1.2.0",
      "_view_name": "LayoutView",
      "align_content": null,
      "align_items": null,
      "align_self": null,
      "border": null,
      "bottom": null,
      "display": null,
      "flex": null,
      "flex_flow": null,
      "grid_area": null,
      "grid_auto_columns": null,
      "grid_auto_flow": null,
      "grid_auto_rows": null,
      "grid_column": null,
      "grid_gap": null,
      "grid_row": null,
      "grid_template_areas": null,
      "grid_template_columns": null,
      "grid_template_rows": null,
      "height": null,
      "justify_content": null,
      "justify_items": null,
      "left": null,
      "margin": null,
      "max_height": null,
      "max_width": null,
      "min_height": null,
      "min_width": null,
      "object_fit": null,
      "object_position": null,
      "order": null,
      "overflow": null,
      "overflow_x": null,
      "overflow_y": null,
      "padding": null,
      "right": null,
      "top": null,
      "visibility": null,
      "width": null
     }
    },
    "45e9505b2c304a59b5c6118be553759f": {
     "model_module": "@jupyter-widgets/controls",
     "model_name": "ButtonStyleModel",
     "model_module_version": "1.5.0",
     "state": {
      "_model_module": "@jupyter-widgets/controls",
      "_model_module_version": "1.5.0",
      "_model_name": "ButtonStyleModel",
      "_view_count": null,
      "_view_module": "@jupyter-widgets/base",
      "_view_module_version": "1.2.0",
      "_view_name": "StyleView",
      "button_color": null,
      "font_weight": ""
     }
    },
    "ec3a616e7a9a4946a04ef02f4a95b12d": {
     "model_module": "@jupyter-widgets/output",
     "model_name": "OutputModel",
     "model_module_version": "1.0.0",
     "state": {
      "_dom_classes": [],
      "_model_module": "@jupyter-widgets/output",
      "_model_module_version": "1.0.0",
      "_model_name": "OutputModel",
      "_view_count": null,
      "_view_module": "@jupyter-widgets/output",
      "_view_module_version": "1.0.0",
      "_view_name": "OutputView",
      "layout": "IPY_MODEL_add3d9993cca4531bd502909cdb9bdf5",
      "msg_id": "",
      "outputs": []
     }
    },
    "add3d9993cca4531bd502909cdb9bdf5": {
     "model_module": "@jupyter-widgets/base",
     "model_name": "LayoutModel",
     "model_module_version": "1.2.0",
     "state": {
      "_model_module": "@jupyter-widgets/base",
      "_model_module_version": "1.2.0",
      "_model_name": "LayoutModel",
      "_view_count": null,
      "_view_module": "@jupyter-widgets/base",
      "_view_module_version": "1.2.0",
      "_view_name": "LayoutView",
      "align_content": null,
      "align_items": null,
      "align_self": null,
      "border": null,
      "bottom": null,
      "display": null,
      "flex": null,
      "flex_flow": null,
      "grid_area": null,
      "grid_auto_columns": null,
      "grid_auto_flow": null,
      "grid_auto_rows": null,
      "grid_column": null,
      "grid_gap": null,
      "grid_row": null,
      "grid_template_areas": null,
      "grid_template_columns": null,
      "grid_template_rows": null,
      "height": null,
      "justify_content": null,
      "justify_items": null,
      "left": null,
      "margin": null,
      "max_height": null,
      "max_width": null,
      "min_height": null,
      "min_width": null,
      "object_fit": null,
      "object_position": null,
      "order": null,
      "overflow": null,
      "overflow_x": null,
      "overflow_y": null,
      "padding": null,
      "right": null,
      "top": null,
      "visibility": null,
      "width": null
     }
    }
   }
  }
 },
 "cells": [
  {
   "cell_type": "markdown",
   "source": [
    "## Importing the csv file from google drive."
   ],
   "metadata": {
    "id": "mq_JTxDFzS8o",
    "pycharm": {
     "name": "#%% md\n"
    }
   }
  },
  {
   "cell_type": "code",
   "execution_count": null,
   "metadata": {
    "id": "ausV_LoAFdox",
    "colab": {
     "base_uri": "https://localhost:8080/",
     "height": 129
    },
    "outputId": "198f4204-f3d3-4870-def2-c6eeeaacfcfc",
    "pycharm": {
     "name": "#%%\n"
    }
   },
   "outputs": [
    {
     "output_type": "stream",
     "name": "stderr",
     "text": [
      "Downloading...\n",
      "From (original): https://drive.google.com/uc?id=1fOwmnF25IbW6hh55h4hyWHviw8kR7fVM\n",
      "From (redirected): https://drive.google.com/uc?id=1fOwmnF25IbW6hh55h4hyWHviw8kR7fVM&confirm=t&uuid=e80e647a-9c8c-4cf3-b2b7-b877cf70d056\n",
      "To: /content/final_dataset.csv\n",
      "100%|██████████| 165M/165M [00:04<00:00, 38.2MB/s]\n"
     ]
    },
    {
     "output_type": "execute_result",
     "data": {
      "text/plain": [
       "'final_dataset.csv'"
      ],
      "application/vnd.google.colaboratory.intrinsic+json": {
       "type": "string"
      }
     },
     "metadata": {},
     "execution_count": 1
    }
   ],
   "source": [
    "import gdown\n",
    "\n",
    "# Replace '1OtNYhw3xc04qIj0Y-McrDJ0XCkx5lXRz' with your file key\n",
    "file_id = '1fOwmnF25IbW6hh55h4hyWHviw8kR7fVM'\n",
    "url = f'https://drive.google.com/uc?id={file_id}'\n",
    "output = 'final_dataset.csv'  # Provide the filename and extension you want\n",
    "\n",
    "gdown.download(url, output, quiet=False)"
   ]
  },
  {
   "cell_type": "markdown",
   "source": [
    "## Dataset pre processing"
   ],
   "metadata": {
    "id": "o7s0ncQszoYG",
    "pycharm": {
     "name": "#%% md\n"
    }
   }
  },
  {
   "cell_type": "code",
   "source": [
    "from sklearn.model_selection import train_test_split\n",
    "from sklearn.preprocessing import LabelEncoder\n",
    "import pandas as pd\n",
    "\n",
    "df = pd.read_csv('/content/final_dataset.csv')\n",
    "\n",
    "categorical_columns = ['transaction_type', 'sender_account_type', 'receiver_account_type']\n",
    "label_encoder = LabelEncoder()\n",
    "\n",
    "for col in categorical_columns:\n",
    "    df[col] = label_encoder.fit_transform(df[col])\n",
    "\n",
    "top_features = [\n",
    "    'depositor_running_balance',\n",
    "    'sender_before_transaction_balance',\n",
    "    'amount',\n",
    "    'sender_debit_amount',\n",
    "    'withdrawer_running_balance'\n",
    "\n",
    "]\n",
    "\n",
    "X = df[top_features]\n",
    "y = df['is_anomaly']\n",
    "X_train, X_test, y_train, y_test = train_test_split(X, y, test_size=0.2, random_state=42)"
   ],
   "metadata": {
    "id": "2w2cDFD8FihH",
    "pycharm": {
     "name": "#%%\n"
    }
   },
   "execution_count": null,
   "outputs": []
  },
  {
   "cell_type": "markdown",
   "source": [
    "## Decision tree"
   ],
   "metadata": {
    "id": "qznut7xE0ALC",
    "pycharm": {
     "name": "#%% md\n"
    }
   }
  },
  {
   "cell_type": "code",
   "source": [
    "from sklearn.tree import DecisionTreeClassifier\n",
    "from sklearn.metrics import accuracy_score, precision_score, recall_score, confusion_matrix\n",
    "\n",
    "decision_tree_model = DecisionTreeClassifier(random_state=42)\n",
    "decision_tree_model.fit(X_train, y_train)\n",
    "\n",
    "y_pred_dt = decision_tree_model.predict(X_test)\n",
    "\n",
    "accuracy_dt = accuracy_score(y_test, y_pred_dt)\n",
    "precision_dt = precision_score(y_test, y_pred_dt)\n",
    "recall_dt = recall_score(y_test, y_pred_dt)\n",
    "conf_matrix_dt = confusion_matrix(y_test, y_pred_dt)\n",
    "\n",
    "print(f'Decision Tree Accuracy: {accuracy_dt}')\n",
    "print(f'Decision Tree Precision: {precision_dt}')\n",
    "print(f'Decision Tree Recall: {recall_dt}')\n",
    "print(f'Decision Tree Confusion Matrix:\\n {conf_matrix_dt}')\n"
   ],
   "metadata": {
    "colab": {
     "base_uri": "https://localhost:8080/"
    },
    "id": "nnOnL_EAFsdl",
    "outputId": "d999ac64-168e-4901-8df8-8a2dd06587cd",
    "pycharm": {
     "name": "#%%\n"
    }
   },
   "execution_count": null,
   "outputs": [
    {
     "output_type": "stream",
     "name": "stdout",
     "text": [
      "Decision Tree Accuracy: 0.9387773341007317\n",
      "Decision Tree Precision: 0.4707126121492657\n",
      "Decision Tree Recall: 0.5115831314825167\n",
      "Decision Tree Confusion Matrix:\n",
      " [[254370   9262]\n",
      " [  7864   8237]]\n"
     ]
    }
   ]
  },
  {
   "cell_type": "markdown",
   "source": [
    "<h1>Prediction</h1>"
   ],
   "metadata": {
    "id": "pLjVwa1q0YfL",
    "pycharm": {
     "name": "#%% md\n"
    }
   }
  },
  {
   "cell_type": "code",
   "source": [
    "import ipywidgets as widgets\n",
    "from IPython.display import display\n",
    "import numpy as np\n",
    "\n",
    "layout = widgets.Layout(width='300px')\n",
    "\n",
    "amount = widgets.FloatText(description=\"Amount:\", layout=layout)\n",
    "sender_debit_amount = widgets.FloatText(description=\"Sender Debit Amount:\", layout=layout)\n",
    "depositor_running_balance = widgets.FloatText(description=\"Depositor Running Balance:\", layout=layout)\n",
    "withdrawer_running_balance = widgets.FloatText(description=\"Withdrawer Running Balance:\", layout=layout)\n",
    "sender_before_transaction_balance = widgets.FloatText(description=\"Sender Balance Before Transaction:\", layout=layout)\n",
    "\n",
    "button = widgets.Button(description=\"Predict\", button_style='success')\n",
    "\n",
    "output = widgets.Output()\n",
    "\n",
    "def on_button_clicked(b):\n",
    "    input_data = np.array([\n",
    "        depositor_running_balance.value,\n",
    "        sender_before_transaction_balance.value,\n",
    "        amount.value,\n",
    "        sender_debit_amount.value,\n",
    "        withdrawer_running_balance.value\n",
    "    ]).reshape(1, -1)\n",
    "    prediction = decision_tree_model.predict(input_data)\n",
    "\n",
    "    with output:\n",
    "        output.clear_output()\n",
    "        if prediction[0] == 1:\n",
    "            print(\"Prediction: This transaction is an anomaly.\")\n",
    "        else:\n",
    "            print(\"Prediction: This transaction is normal.\")\n",
    "\n",
    "button.on_click(on_button_clicked)\n",
    "\n",
    "display(depositor_running_balance, sender_before_transaction_balance, amount, sender_debit_amount,\n",
    "        withdrawer_running_balance, button, output)"
   ],
   "metadata": {
    "id": "IAzVEgR_0bSd",
    "colab": {
     "base_uri": "https://localhost:8080/",
     "height": 202,
     "referenced_widgets": [
      "8a21dd7d981a4d1c8b8bb0a03ce72cac",
      "4ddaece86afd409f98334facb5a8d1fb",
      "eeda931f5a2c4c1b8885917a83972097",
      "ca886c4cab4345dd94e4c7d17523bd74",
      "e8f276695f9e43ea81ee2a6f460e6475",
      "b23b077b0c1946b097e2d7c29734e04c",
      "7904af752971431c986049c3f11c24b7",
      "95cd7446d33b4abf8bc0a0156ed64934",
      "1a9e76c3d82c4d5281d9befc66e7b45a",
      "b8b1f6d09c4c4f3bb922037fb06971e2",
      "d1dd4994e75647578b9edc3c3896187f",
      "d30d75b6d94b4ee8ac9c802b8dc14f62",
      "12d9940397ca4b9a98d100321fa5f66a",
      "45e9505b2c304a59b5c6118be553759f",
      "ec3a616e7a9a4946a04ef02f4a95b12d",
      "add3d9993cca4531bd502909cdb9bdf5"
     ]
    },
    "outputId": "8eca0461-b0fa-426e-9f24-73c3772d0f3e",
    "pycharm": {
     "name": "#%%\n"
    }
   },
   "execution_count": null,
   "outputs": [
    {
     "output_type": "display_data",
     "data": {
      "text/plain": [
       "FloatText(value=0.0, description='Depositor Running Balance:', layout=Layout(width='300px'))"
      ],
      "application/vnd.jupyter.widget-view+json": {
       "version_major": 2,
       "version_minor": 0,
       "model_id": "8a21dd7d981a4d1c8b8bb0a03ce72cac"
      }
     },
     "metadata": {}
    },
    {
     "output_type": "display_data",
     "data": {
      "text/plain": [
       "FloatText(value=0.0, description='Sender Balance Before Transaction:', layout=Layout(width='300px'))"
      ],
      "application/vnd.jupyter.widget-view+json": {
       "version_major": 2,
       "version_minor": 0,
       "model_id": "ca886c4cab4345dd94e4c7d17523bd74"
      }
     },
     "metadata": {}
    },
    {
     "output_type": "display_data",
     "data": {
      "text/plain": [
       "FloatText(value=0.0, description='Amount:', layout=Layout(width='300px'))"
      ],
      "application/vnd.jupyter.widget-view+json": {
       "version_major": 2,
       "version_minor": 0,
       "model_id": "b23b077b0c1946b097e2d7c29734e04c"
      }
     },
     "metadata": {}
    },
    {
     "output_type": "display_data",
     "data": {
      "text/plain": [
       "FloatText(value=0.0, description='Sender Debit Amount:', layout=Layout(width='300px'))"
      ],
      "application/vnd.jupyter.widget-view+json": {
       "version_major": 2,
       "version_minor": 0,
       "model_id": "95cd7446d33b4abf8bc0a0156ed64934"
      }
     },
     "metadata": {}
    },
    {
     "output_type": "display_data",
     "data": {
      "text/plain": [
       "FloatText(value=0.0, description='Withdrawer Running Balance:', layout=Layout(width='300px'))"
      ],
      "application/vnd.jupyter.widget-view+json": {
       "version_major": 2,
       "version_minor": 0,
       "model_id": "b8b1f6d09c4c4f3bb922037fb06971e2"
      }
     },
     "metadata": {}
    },
    {
     "output_type": "display_data",
     "data": {
      "text/plain": [
       "Button(button_style='success', description='Predict', style=ButtonStyle())"
      ],
      "application/vnd.jupyter.widget-view+json": {
       "version_major": 2,
       "version_minor": 0,
       "model_id": "d30d75b6d94b4ee8ac9c802b8dc14f62"
      }
     },
     "metadata": {}
    },
    {
     "output_type": "display_data",
     "data": {
      "text/plain": [
       "Output()"
      ],
      "application/vnd.jupyter.widget-view+json": {
       "version_major": 2,
       "version_minor": 0,
       "model_id": "ec3a616e7a9a4946a04ef02f4a95b12d"
      }
     },
     "metadata": {}
    }
   ]
  },
  {
   "cell_type": "markdown",
   "source": [
    "## Logistic regression"
   ],
   "metadata": {
    "id": "cpMlmlWF_PpI",
    "pycharm": {
     "name": "#%% md\n"
    }
   }
  },
  {
   "cell_type": "markdown",
   "source": [
    "## Random forest"
   ],
   "metadata": {
    "id": "goRM3SV8_Rxn",
    "pycharm": {
     "name": "#%% md\n"
    }
   }
  },
  {
   "cell_type": "code",
   "source": [
    "from sklearn.ensemble import RandomForestClassifier\n",
    "\n",
    "random_forest_model = RandomForestClassifier(random_state=42)\n",
    "random_forest_model.fit(X_train, y_train)\n",
    "\n",
    "y_pred_rf = random_forest_model.predict(X_test)\n",
    "\n",
    "accuracy_rf = accuracy_score(y_test, y_pred_rf)\n",
    "precision_rf = precision_score(y_test, y_pred_rf)\n",
    "recall_rf = recall_score(y_test, y_pred_rf)\n",
    "conf_matrix_rf = confusion_matrix(y_test, y_pred_rf)\n",
    "\n",
    "print(f'Random Forest Accuracy: {accuracy_rf}')\n",
    "print(f'Random Forest Precision: {precision_rf}')\n",
    "print(f'Random Forest Recall: {recall_rf}')\n",
    "print(f'Random Forest Confusion Matrix:\\n {conf_matrix_rf}')\n"
   ],
   "metadata": {
    "colab": {
     "base_uri": "https://localhost:8080/"
    },
    "id": "lqAS9-2vG0ye",
    "outputId": "e5c84a9a-fa27-4c38-a503-7d477cf44cbf",
    "pycharm": {
     "name": "#%%\n"
    }
   },
   "execution_count": null,
   "outputs": [
    {
     "output_type": "stream",
     "name": "stdout",
     "text": [
      "Random Forest Accuracy: 0.9704539686057777\n",
      "Random Forest Precision: 0.9920874152223059\n",
      "Random Forest Recall: 0.49059064654369294\n",
      "Random Forest Confusion Matrix:\n",
      " [[263569     63]\n",
      " [  8202   7899]]\n"
     ]
    }
   ]
  },
  {
   "cell_type": "markdown",
   "source": [
    "## SGD classifier"
   ],
   "metadata": {
    "id": "QCSngKIv_UnX",
    "pycharm": {
     "name": "#%% md\n"
    }
   }
  },
  {
   "cell_type": "code",
   "source": [
    "from sklearn.linear_model import SGDClassifier\n",
    "sgd_model = SGDClassifier(random_state=42)\n",
    "sgd_model.fit(X_train, y_train)\n",
    "y_pred_sgd = sgd_model.predict(X_test)\n",
    "accuracy_sgd = accuracy_score(y_test, y_pred_sgd)\n",
    "precision_sgd = precision_score(y_test, y_pred_sgd)\n",
    "recall_sgd = recall_score(y_test, y_pred_sgd)\n",
    "conf_matrix_sgd = confusion_matrix(y_test, y_pred_sgd)\n",
    "print(f'SGD Classifier Accuracy: {accuracy_sgd}')\n",
    "print(f'SGD Classifier Precision: {precision_sgd}')\n",
    "print(f'SGD Classifier Recall: {recall_sgd}')\n",
    "print(f'SGD Classifier Confusion Matrix:\\n {conf_matrix_sgd}')\n"
   ],
   "metadata": {
    "colab": {
     "base_uri": "https://localhost:8080/"
    },
    "id": "1taFa8mIG3Kk",
    "outputId": "f4c5d4a4-155e-4b99-c5e5-b8ff513170cc",
    "pycharm": {
     "name": "#%%\n"
    }
   },
   "execution_count": null,
   "outputs": [
    {
     "output_type": "stream",
     "name": "stderr",
     "text": [
      "/usr/local/lib/python3.10/dist-packages/sklearn/linear_model/_stochastic_gradient.py:713: ConvergenceWarning: Maximum number of iteration reached before convergence. Consider increasing max_iter to improve the fit.\n",
      "  warnings.warn(\n"
     ]
    },
    {
     "output_type": "stream",
     "name": "stdout",
     "text": [
      "SGD Classifier Accuracy: 0.9625071049894006\n",
      "SGD Classifier Precision: 0.8381732738884203\n",
      "SGD Classifier Recall: 0.432022855723247\n",
      "SGD Classifier Confusion Matrix:\n",
      " [[262289   1343]\n",
      " [  9145   6956]]\n"
     ]
    }
   ]
  },
  {
   "cell_type": "markdown",
   "source": [
    "## Support vector machine"
   ],
   "metadata": {
    "id": "P7l-i7CUWWoI",
    "pycharm": {
     "name": "#%% md\n"
    }
   }
  },
  {
   "cell_type": "code",
   "source": [
    "from sklearn.svm import SVC\n",
    "from sklearn.metrics import accuracy_score, precision_score, recall_score, confusion_matrix\n",
    "\n",
    "# Initialize the SVM model\n",
    "svm_model = SVC(random_state=42)\n",
    "\n",
    "# Train the model\n",
    "svm_model.fit(X_train, y_train)\n",
    "\n",
    "# Make predictions\n",
    "y_pred_svm = svm_model.predict(X_test)\n",
    "\n",
    "# Calculate metrics\n",
    "accuracy_svm = accuracy_score(y_test, y_pred_svm)\n",
    "precision_svm = precision_score(y_test, y_pred_svm)\n",
    "recall_svm = recall_score(y_test, y_pred_svm)\n",
    "conf_matrix_svm = confusion_matrix(y_test, y_pred_svm)\n",
    "\n",
    "# Print results\n",
    "print(f'SVM Accuracy: {accuracy_svm}')\n",
    "print(f'SVM Precision: {precision_svm}')\n",
    "print(f'SVM Recall: {recall_svm}')\n",
    "print(f'SVM Confusion Matrix:\\n {conf_matrix_svm}')\n"
   ],
   "metadata": {
    "id": "wFS2I5P-WY_Q",
    "pycharm": {
     "name": "#%%\n"
    }
   },
   "execution_count": null,
   "outputs": []
  },
  {
   "cell_type": "code",
   "source": [
    "print(f\"Model Performance Comparison:\\n\")\n",
    "print(f\"Decision Tree - Accuracy: {accuracy_dt}, Precision: {precision_dt}, Recall: {recall_dt}\")\n",
    "print(f\"Logistic Regression - Accuracy: {accuracy_lr}, Precision: {precision_lr}, Recall: {recall_lr}\")\n",
    "print(f\"Random Forest - Accuracy: {accuracy_rf}, Precision: {precision_rf}, Recall: {recall_rf}\")\n",
    "print(f\"SGD Classifier - Accuracy: {accuracy_sgd}, Precision: {precision_sgd}, Recall: {recall_sgd}\")\n",
    "\n"
   ],
   "metadata": {
    "colab": {
     "base_uri": "https://localhost:8080/"
    },
    "id": "BkUgm50YG8e4",
    "outputId": "689e505b-0a4e-4676-ad3d-df32eed4136c",
    "pycharm": {
     "name": "#%%\n"
    }
   },
   "execution_count": null,
   "outputs": [
    {
     "output_type": "stream",
     "name": "stdout",
     "text": [
      "Model Performance Comparison:\n",
      "\n",
      "Decision Tree - Accuracy: 0.9387773341007317, Precision: 0.4707126121492657, Recall: 0.5115831314825167\n",
      "Logistic Regression - Accuracy: 0.965009491193388, Precision: 0.9840515258395952, Recall: 0.3985466741196199\n",
      "Random Forest - Accuracy: 0.9704539686057777, Precision: 0.9920874152223059, Recall: 0.49059064654369294\n",
      "SGD Classifier - Accuracy: 0.9625071049894006, Precision: 0.8381732738884203, Recall: 0.432022855723247\n"
     ]
    }
   ]
  },
  {
   "cell_type": "code",
   "source": [],
   "metadata": {
    "id": "4bB2x5qALDUq",
    "pycharm": {
     "name": "#%%\n"
    }
   },
   "execution_count": null,
   "outputs": []
  }
 ]
}